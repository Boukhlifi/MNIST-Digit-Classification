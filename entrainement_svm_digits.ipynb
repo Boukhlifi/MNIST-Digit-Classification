{
 "cells": [
  {
   "cell_type": "code",
   "execution_count": 1,
   "metadata": {},
   "outputs": [
    {
     "name": "stdout",
     "output_type": "stream",
     "text": [
      "Requirement already satisfied: sklearn in c:\\users\\boukh\\anaconda3\\lib\\site-packages (0.0)\n",
      "Requirement already satisfied: scikit-learn in c:\\users\\boukh\\anaconda3\\lib\\site-packages (from sklearn) (0.23.1)\n",
      "Requirement already satisfied: threadpoolctl>=2.0.0 in c:\\users\\boukh\\anaconda3\\lib\\site-packages (from scikit-learn->sklearn) (2.1.0)\n",
      "Requirement already satisfied: numpy>=1.13.3 in c:\\users\\boukh\\anaconda3\\lib\\site-packages (from scikit-learn->sklearn) (1.18.5)\n",
      "Requirement already satisfied: scipy>=0.19.1 in c:\\users\\boukh\\anaconda3\\lib\\site-packages (from scikit-learn->sklearn) (1.5.0)\n",
      "Requirement already satisfied: joblib>=0.11 in c:\\users\\boukh\\anaconda3\\lib\\site-packages (from scikit-learn->sklearn) (0.16.0)\n",
      "Note: you may need to restart the kernel to use updated packages.\n"
     ]
    }
   ],
   "source": [
    "pip install sklearn"
   ]
  },
  {
   "cell_type": "code",
   "execution_count": 2,
   "metadata": {},
   "outputs": [],
   "source": [
    "import sklearn"
   ]
  },
  {
   "cell_type": "code",
   "execution_count": 3,
   "metadata": {},
   "outputs": [
    {
     "name": "stdout",
     "output_type": "stream",
     "text": [
      "Collecting package metadata (current_repodata.json): ...working... failed\n",
      "\n",
      "Note: you may need to restart the kernel to use updated packages.\n"
     ]
    },
    {
     "name": "stderr",
     "output_type": "stream",
     "text": [
      "\n",
      "CondaHTTPError: HTTP 000 CONNECTION FAILED for url <https://repo.anaconda.com/pkgs/main/win-64/current_repodata.json>\n",
      "Elapsed: -\n",
      "\n",
      "An HTTP error occurred when trying to retrieve this URL.\n",
      "HTTP errors are often intermittent, and a simple retry will get you on your way.\n",
      "\n",
      "If your current network has https://www.anaconda.com blocked, please file\n",
      "a support request with your network engineering team.\n",
      "\n",
      "'https://repo.anaconda.com/pkgs/main/win-64'\n",
      "\n",
      "\n"
     ]
    }
   ],
   "source": [
    "conda install scikit-learn"
   ]
  },
  {
   "cell_type": "code",
   "execution_count": 7,
   "metadata": {},
   "outputs": [],
   "source": [
    "import joblib\n",
    "from skimage.feature import hog\n",
    "from sklearn.svm import LinearSVC\n",
    "import numpy as np\n",
    "from collections import Counter\n",
    "from sklearn.model_selection import train_test_split\n",
    "import matplotlib.pyplot as plt\n",
    "from scipy.io import loadmat\n",
    "from sklearn import metrics\n",
    "from sklearn import model_selection\n",
    "from sklearn import svm\n",
    "#from sklearn import data,exposure"
   ]
  },
  {
   "cell_type": "code",
   "execution_count": 8,
   "metadata": {},
   "outputs": [
    {
     "data": {
      "text/plain": [
       "(70000, 784)"
      ]
     },
     "execution_count": 8,
     "metadata": {},
     "output_type": "execute_result"
    }
   ],
   "source": [
    "#chargement de dataset\n",
    "mnist = loadmat(\"mnist-original.mat\")\n",
    "features = mnist[\"data\"].T#il faur convertir l'ordre de data pour que les lignes representent les images et les colonnes representent les pixels de l'image\n",
    "labels = mnist[\"label\"][0]\n",
    "features.shape"
   ]
  },
  {
   "cell_type": "code",
   "execution_count": 9,
   "metadata": {},
   "outputs": [
    {
     "name": "stdout",
     "output_type": "stream",
     "text": [
      "[0]\n",
      "[5923]\n",
      "[12665]\n",
      "[18623]\n",
      "[24754]\n",
      "[30596]\n",
      "[36017]\n",
      "[41935]\n",
      "[48200]\n",
      "[54051]\n"
     ]
    },
    {
     "data": {
      "image/png": "[encoded data removed]",
      "text/plain": [
       "<Figure size 432x288 with 10 Axes>"
      ]
     },
     "metadata": {
      "needs_background": "light"
     },
     "output_type": "display_data"
    }
   ],
   "source": [
    "#la visualisation des donneés\n",
    "fig,ax = plt.subplots(2,5)\n",
    "ax = ax.flatten()\n",
    "for i in range(10):\n",
    "    label_index = np.argwhere(labels == i)[0]\n",
    "    print(label_index)\n",
    "    image = np.reshape(features[label_index], (28,28))\n",
    "    ax[i].imshow(image, cmap='gray_r')"
   ]
  },
  {
   "cell_type": "code",
   "execution_count": 10,
   "metadata": {},
   "outputs": [
    {
     "name": "stdout",
     "output_type": "stream",
     "text": [
      "(52500, 784)\n",
      "(52500,)\n",
      "(17500, 784)\n",
      "(17500,)\n",
      "count of digits in dataset Counter({1.0: 5925, 7.0: 5505, 3.0: 5281, 2.0: 5248, 9.0: 5248, 0.0: 5203, 6.0: 5184, 4.0: 5110, 8.0: 5083, 5.0: 4713})\n"
     ]
    }
   ],
   "source": [
    "(traindata, testdata, trainlabels, testlabeles)= train_test_split(np.array(features), labels, test_size=0.25)\n",
    "print(traindata.shape)\n",
    "print(trainlabels.shape)\n",
    "print(testdata.shape)\n",
    "print(testlabeles.shape)\n",
    "print(\"count of digits in dataset\",Counter(trainlabels))"
   ]
  },
  {
   "cell_type": "code",
   "execution_count": 11,
   "metadata": {},
   "outputs": [
    {
     "name": "stdout",
     "output_type": "stream",
     "text": [
      "(36,)\n",
      "[0.49845786 0.49845786 0.26492924 0.25304903 0.49845786 0.14959023\n",
      " 0.         0.         0.31308265 0.33249386 0.         0.4088707\n",
      " 0.4088707  0.4088707  0.4088707  0.4088707  0.23141905 0.00410181\n",
      " 0.34691093 0.         0.16391678 0.2563692  0.42852154 0.42852154\n",
      " 0.42852154 0.37965193 0.30336645 0.36602366 0.36602366 0.36602366\n",
      " 0.27294879 0.36602366 0.12678705 0.32493705 0.36602366 0.36602366]\n"
     ]
    }
   ],
   "source": [
    "#extraire les descripteurs hog pour l'ensemble de l'entrainement \n",
    "list_hog_train = []\n",
    "for feature in traindata:\n",
    "    fd = hog(feature.reshape((28,28)), orientations=9 , pixels_per_cell=(14,14), cells_per_block =(1,1))#l'image doit etre en niveau de gris\n",
    "    list_hog_train.append(fd)\n",
    "hog_features_train = np.array(list_hog_train , 'float64')\n",
    "print(list_hog_train[0].shape)#mnt on n'a plus 784 feetures mais que 36,don le but de hog est de reduire le nombre de variable,36=9binsde l'hostogramme * 4block\n",
    "print(list_hog_train[0])"
   ]
  },
  {
   "cell_type": "code",
   "execution_count": 12,
   "metadata": {},
   "outputs": [
    {
     "data": {
      "text/plain": [
       "SVC(gamma=0.01)"
      ]
     },
     "execution_count": 12,
     "metadata": {},
     "output_type": "execute_result"
    }
   ],
   "source": [
    "#creation d'un SVm avec un noyau gaussian avec gamma=0.01\n",
    "claasifier = svm.SVC(kernel='rbf', gamma=0.01)\n",
    "#entainement de modele avec les caracteristiques hog\n",
    "claasifier.fit(hog_features_train,trainlabels)"
   ]
  },
  {
   "cell_type": "code",
   "execution_count": 13,
   "metadata": {},
   "outputs": [
    {
     "name": "stdout",
     "output_type": "stream",
     "text": [
      "(36,)\n",
      "[0.49877718 0.         0.11997832 0.         0.12973235 0.13279012\n",
      " 0.45255438 0.49877718 0.49877718 0.55368513 0.11457683 0.\n",
      " 0.         0.19523266 0.10067924 0.13754405 0.55368513 0.55368513\n",
      " 0.404009   0.         0.00076615 0.14373507 0.404009   0.404009\n",
      " 0.404009   0.404009   0.404009   0.4537776  0.10799192 0.12213016\n",
      " 0.11298209 0.4537776  0.4537776  0.00123242 0.37013383 0.4537776 ]\n"
     ]
    }
   ],
   "source": [
    "#apres l'entrainement de modele ,il faut extraire le hog pour les donnes test,pour offrir au modéle les donnes de meme types lors de l'entrainement de modele\n",
    "list_hog_test = []\n",
    "for feature in testdata:\n",
    "    fd = hog(feature.reshape((28,28)), orientations=9 , pixels_per_cell=(14,14), cells_per_block =(1,1))#l'image doit etre en niveau de gris\n",
    "    list_hog_test.append(fd)\n",
    "hog_features_test = np.array(list_hog_test , 'float64')\n",
    "print(list_hog_test[0].shape)#mnt on n'a plus 784 feetures mais que 36,don le but de hog est de reduire le nombre de variable,36=9binsde l'hostogramme * 4block\n",
    "print(list_hog_test[0])"
   ]
  },
  {
   "cell_type": "code",
   "execution_count": 14,
   "metadata": {},
   "outputs": [
    {
     "name": "stdout",
     "output_type": "stream",
     "text": [
      "accuracy=85%\n"
     ]
    }
   ],
   "source": [
    "score = claasifier.score(hog_features_test,testlabeles)\n",
    "print(\"accuracy=%.f%%\"%(score*100))"
   ]
  },
  {
   "cell_type": "code",
   "execution_count": 15,
   "metadata": {},
   "outputs": [
    {
     "name": "stdout",
     "output_type": "stream",
     "text": [
      "les paramettres optimaux sont :{'C': 10.0, 'gamma': 1.0} avec score de :0.9092571428571429\n"
     ]
    }
   ],
   "source": [
    "#mnr on vas entrainer le modele modele avec une valeur de c et gamma plus optimaux\n",
    "#evaluation de 6 valeurs aleatoire dans un echelle logaritmique entre -2 et 3\n",
    "c_range = np.logspace(-2, 3, 6)\n",
    "\n",
    "#evaluation de 6 valeurs aleatoire dans un echelle logaritmique entre -2 et 3\n",
    "gamma_range = np.logspace(-2, 1, 4)\n",
    "\n",
    "#parameter grid\n",
    "param_grid = {'C':c_range, 'gamma': gamma_range}\n",
    "\n",
    "#critere de l'evaluation de modele \n",
    "score ='accuracy'\n",
    "\n",
    "#grid searsh\n",
    "grid = model_selection.GridSearchCV(svm.SVC(kernel='rbf'),param_grid, cv=5, scoring=score) #5 folds of cross validation\n",
    "\n",
    "#faire tourner la recherche sur la grille\n",
    "grid.fit(hog_features_train,trainlabels)\n",
    "\n",
    "#afficher les paramettres optimaux\n",
    "print(\"les paramettres optimaux sont :{0} avec score de :{1}\".format(grid.best_params_,grid.best_score_))\n"
   ]
  },
  {
   "cell_type": "code",
   "execution_count": null,
   "metadata": {},
   "outputs": [],
   "source": [
    "# predire le traintest mais avec le modele optimisé\n",
    "core = grid.score(hog_features_test,testlabeles)"
   ]
  },
  {
   "cell_type": "code",
   "execution_count": 23,
   "metadata": {},
   "outputs": [
    {
     "name": "stdout",
     "output_type": "stream",
     "text": [
      "accuracy=91 %\n"
     ]
    }
   ],
   "source": [
    "print(\"accuracy=%.f %%\" % (core*100))"
   ]
  },
  {
   "cell_type": "code",
   "execution_count": 19,
   "metadata": {},
   "outputs": [
    {
     "data": {
      "text/plain": [
       "['svm_gigits.pkl']"
      ]
     },
     "execution_count": 19,
     "metadata": {},
     "output_type": "execute_result"
    }
   ],
   "source": [
    "#sauvergade de modele sans passer a chaque fois par l'entrainement\n",
    "joblib.dump(grid,'svm_gigits.pkl', compress= 3)"
   ]
  },
  {
   "cell_type": "code",
   "execution_count": null,
   "metadata": {},
   "outputs": [],
   "source": []
  }
 ],
 "metadata": {
  "kernelspec": {
   "display_name": "Python 3",
   "language": "python",
   "name": "python3"
  },
  "language_info": {
   "codemirror_mode": {
    "name": "ipython",
    "version": 3
   },
   "file_extension": ".py",
   "mimetype": "text/x-python",
   "name": "python",
   "nbconvert_exporter": "python",
   "pygments_lexer": "ipython3",
   "version": "3.8.3"
  }
 },
 "nbformat": 4,
 "nbformat_minor": 4
}
