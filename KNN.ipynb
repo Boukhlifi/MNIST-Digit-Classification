{
 "cells": [
  {
   "cell_type": "code",
   "execution_count": 1,
   "metadata": {},
   "outputs": [],
   "source": [
    "from sklearn.model_selection import train_test_split\n",
    "from sklearn.neighbors import KNeighborsClassifier\n",
    "from sklearn.metrics import classification_report\n",
    "from sklearn import datasets#telechergre les bases de donnes qui existe dans sklearn\n",
    "import numpy as np\n",
    "from collections import Counter\n",
    "import matplotlib.pyplot as plt\n",
    "import joblib"
   ]
  },
  {
   "cell_type": "code",
   "execution_count": 2,
   "metadata": {},
   "outputs": [
    {
     "data": {
      "text/plain": [
       "(1797, 64)"
      ]
     },
     "execution_count": 2,
     "metadata": {},
     "output_type": "execute_result"
    }
   ],
   "source": [
    "mnist = datasets.load_digits()#ils ont pris qu'une petite portion de la base de donnes originale\n",
    "mnist.data.shape"
   ]
  },
  {
   "cell_type": "code",
   "execution_count": 3,
   "metadata": {},
   "outputs": [
    {
     "name": "stdout",
     "output_type": "stream",
     "text": [
      "(64,)\n",
      "[ 0.  0.  5. 13.  9.  1.  0.  0.  0.  0. 13. 15. 10. 15.  5.  0.  0.  3.\n",
      " 15.  2.  0. 11.  8.  0.  0.  4. 12.  0.  0.  8.  8.  0.  0.  5.  8.  0.\n",
      "  0.  9.  8.  0.  0.  4. 11.  0.  1. 12.  7.  0.  0.  2. 14.  5. 10. 12.\n",
      "  0.  0.  0.  0.  6. 13. 10.  0.  0.  0.]\n",
      "label : 0\n"
     ]
    }
   ],
   "source": [
    "print(mnist.data[0].shape)\n",
    "print(mnist.data[0])\n",
    "print(\"label : %i\"%mnist.target[0])"
   ]
  },
  {
   "cell_type": "code",
   "execution_count": 4,
   "metadata": {},
   "outputs": [
    {
     "data": {
      "text/plain": [
       "<matplotlib.image.AxesImage at 0x25303cf0b20>"
      ]
     },
     "execution_count": 4,
     "metadata": {},
     "output_type": "execute_result"
    },
    {
     "data": {
      "image/png": "[encoded data removed]",
      "text/plain": [
       "<Figure size 1440x288 with 1 Axes>"
      ]
     },
     "metadata": {
      "needs_background": "light"
     },
     "output_type": "display_data"
    }
   ],
   "source": [
    "plt.figure(figsize=(20,4))\n",
    "plt.imshow(np.reshape(mnist.data[0],(8,8)),cmap='gray_r')"
   ]
  },
  {
   "cell_type": "code",
   "execution_count": 5,
   "metadata": {},
   "outputs": [],
   "source": [
    "#plt.figure(figsize=(20,4))\n",
    "#for index,(image,label) in enumerate(zip(mnist.data[0:5],(mnist.target[0:5])):\n",
    "            #plt.imshow(np.reshape(image,(8,8)),cmap='gray_r')) \n",
    "                                                                   "
   ]
  },
  {
   "cell_type": "code",
   "execution_count": 6,
   "metadata": {},
   "outputs": [
    {
     "name": "stdout",
     "output_type": "stream",
     "text": [
      "(1347, 64)\n",
      "(1347,)\n",
      "(450, 64)\n",
      "(450,)\n",
      "count of digits in dataset Counter({4: 143, 0: 141, 1: 139, 3: 138, 5: 134, 2: 133, 9: 133, 7: 131, 6: 129, 8: 126})\n"
     ]
    }
   ],
   "source": [
    "(traindata, testdata, trainlabels, testlabeles)= train_test_split(mnist.data, mnist.target, test_size=0.25,random_state=0)\n",
    "print(traindata.shape)\n",
    "print(trainlabels.shape)\n",
    "print(testdata.shape)\n",
    "print(testlabeles.shape)\n",
    "print(\"count of digits in dataset\",Counter(trainlabels))"
   ]
  },
  {
   "cell_type": "code",
   "execution_count": 7,
   "metadata": {},
   "outputs": [],
   "source": [
    "(traindata, valdata, trainlabels, vallabeles)= train_test_split(traindata, trainlabels, test_size=0.1,random_state=0)"
   ]
  },
  {
   "cell_type": "code",
   "execution_count": 8,
   "metadata": {},
   "outputs": [
    {
     "name": "stdout",
     "output_type": "stream",
     "text": [
      "training data apoints : 1212 \n",
      "val data apoints : 135 \n",
      "test data apoints : 450 \n"
     ]
    }
   ],
   "source": [
    "print(\"training data apoints : {} \".format(len(traindata)))\n",
    "print(\"val data apoints : {} \".format(len(valdata)))\n",
    "print(\"test data apoints : {} \".format(len(testdata)))"
   ]
  },
  {
   "cell_type": "code",
   "execution_count": 9,
   "metadata": {},
   "outputs": [],
   "source": [
    "kvals=range(1,10,2)\n",
    "accuracies=[]"
   ]
  },
  {
   "cell_type": "code",
   "execution_count": 10,
   "metadata": {},
   "outputs": [
    {
     "name": "stdout",
     "output_type": "stream",
     "text": [
      "K=1.000000 , accuracy=100.00%\n",
      "K=3.000000 , accuracy=100.00%\n",
      "K=5.000000 , accuracy=100.00%\n",
      "K=7.000000 , accuracy=99.26%\n",
      "K=9.000000 , accuracy=99.26%\n"
     ]
    }
   ],
   "source": [
    "#evaluation de modele sur differents valeur de k\n",
    "for k in kvals:\n",
    "    #entrainement\n",
    "    model = KNeighborsClassifier(n_neighbors=k)\n",
    "    model.fit(traindata,trainlabels)\n",
    "    #evaluation de modele\n",
    "    score = model.score(valdata,vallabeles)\n",
    "    print(\"K=%f , accuracy=%.2f%%\" % (k,score*100))\n",
    "    accuracies.append(score)"
   ]
  },
  {
   "cell_type": "code",
   "execution_count": 11,
   "metadata": {},
   "outputs": [
    {
     "data": {
      "text/plain": [
       "KNeighborsClassifier(n_neighbors=9)"
      ]
     },
     "execution_count": 11,
     "metadata": {},
     "output_type": "execute_result"
    }
   ],
   "source": [
    "#entrainer le modele sur le best valeur of k\n",
    "i = np.argmax(accuracies)\n",
    "best_model = KNeighborsClassifier(n_neighbors=kvals[i])\n",
    "model.fit(traindata,trainlabels)"
   ]
  },
  {
   "cell_type": "code",
   "execution_count": 15,
   "metadata": {},
   "outputs": [],
   "source": [
    "predictions = model.predict(testdata)"
   ]
  },
  {
   "cell_type": "code",
   "execution_count": 13,
   "metadata": {},
   "outputs": [
    {
     "name": "stdout",
     "output_type": "stream",
     "text": [
      "              precision    recall  f1-score   support\n",
      "\n",
      "           0       0.97      1.00      0.99        37\n",
      "           1       0.96      1.00      0.98        43\n",
      "           2       1.00      0.95      0.98        44\n",
      "           3       0.96      1.00      0.98        45\n",
      "           4       1.00      0.97      0.99        38\n",
      "           5       0.98      0.98      0.98        48\n",
      "           6       1.00      1.00      1.00        52\n",
      "           7       0.94      1.00      0.97        48\n",
      "           8       1.00      0.90      0.95        48\n",
      "           9       0.98      0.98      0.98        47\n",
      "\n",
      "    accuracy                           0.98       450\n",
      "   macro avg       0.98      0.98      0.98       450\n",
      "weighted avg       0.98      0.98      0.98       450\n",
      "\n"
     ]
    }
   ],
   "source": [
    "#evaluation de model pour chaque classe\n",
    "print(classification_report(testlabeles,predictions))"
   ]
  },
  {
   "cell_type": "code",
   "execution_count": 16,
   "metadata": {},
   "outputs": [
    {
     "data": {
      "text/plain": [
       "['KNN_digits.pkl']"
      ]
     },
     "execution_count": 16,
     "metadata": {},
     "output_type": "execute_result"
    }
   ],
   "source": [
    "joblib.dump(model,'KNN_digits.pkl', compress= 3)"
   ]
  }
 ],
 "metadata": {
  "kernelspec": {
   "display_name": "Python 3",
   "language": "python",
   "name": "python3"
  },
  "language_info": {
   "codemirror_mode": {
    "name": "ipython",
    "version": 3
   },
   "file_extension": ".py",
   "mimetype": "text/x-python",
   "name": "python",
   "nbconvert_exporter": "python",
   "pygments_lexer": "ipython3",
   "version": "3.8.3"
  }
 },
 "nbformat": 4,
 "nbformat_minor": 4
}
