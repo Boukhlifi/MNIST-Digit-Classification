{
  "nbformat": 4,
  "nbformat_minor": 0,
  "metadata": {
    "colab": {
      "name": "MLP_digits.ipynb",
      "provenance": [],
      "collapsed_sections": [],
      "authorship_tag": "ABX9TyN6mr2/TyI0yxiqQMNmMKsG",
      "include_colab_link": true
    },
    "kernelspec": {
      "name": "python3",
      "display_name": "Python 3"
    }
  },
  "cells": [
    {
      "cell_type": "markdown",
      "metadata": {
        "id": "view-in-github",
        "colab_type": "text"
      },
      "source": [
        "<a href=\"https://colab.research.google.com/github/Boukhlifi/MNIST-Digit-Classification/blob/main/MLP_digits.ipynb\" target=\"_parent\"><img src=\"https://colab.research.google.com/assets/colab-badge.svg\" alt=\"Open In Colab\"/></a>"
      ]
    },
    {
      "cell_type": "code",
      "metadata": {
        "id": "EAamuo-oo1Q4"
      },
      "source": [
        "import os\r\n",
        "import numpy as np\r\n",
        "import matplotlib\r\n",
        "import matplotlib.pyplot as plt\r\n",
        "import keras\r\n",
        "from keras.datasets import mnist\r\n",
        "from keras.models import Sequential\r\n",
        "from keras import optimizers\r\n",
        "from keras.layers import Activation, Dense"
      ],
      "execution_count": 2,
      "outputs": []
    },
    {
      "cell_type": "code",
      "metadata": {
        "colab": {
          "base_uri": "https://localhost:8080/"
        },
        "id": "j_MAPXYN4Xiy",
        "outputId": "bf206d61-775a-4e01-bbd1-3b5998c82e6f"
      },
      "source": [
        "(x_train,y_train),(x_test,y_test) = mnist.load_data()#la separer directement\r\n",
        "print(x_train.shape,\"training samples\")\r\n",
        "print(x_test.shape,\"testing samples\")\r\n",
        "print(y_train.shape,\"training samples\")\r\n",
        "print(y_test.shape,\"testing samples\")"
      ],
      "execution_count": 3,
      "outputs": [
        {
          "output_type": "stream",
          "text": [
            "Downloading data from https://storage.googleapis.com/tensorflow/tf-keras-datasets/mnist.npz\n",
            "11493376/11490434 [==============================] - 0s 0us/step\n",
            "(60000, 28, 28) training samples\n",
            "(10000, 28, 28) testing samples\n",
            "(60000,) training samples\n",
            "(10000,) testing samples\n"
          ],
          "name": "stdout"
        }
      ]
    },
    {
      "cell_type": "code",
      "metadata": {
        "colab": {
          "base_uri": "https://localhost:8080/",
          "height": 299
        },
        "id": "5vSro9wX5JWz",
        "outputId": "54d870ff-c687-44de-c873-29c30cafd69d"
      },
      "source": [
        "fig = plt.figure()\r\n",
        "plt.subplot(2,1,1)\r\n",
        "plt.imshow(x_train[0], cmap='gray')\r\n",
        "plt.title(\"Digits : {}\".format(y_train[0]))\r\n",
        "plt.subplot(2,1,2)\r\n",
        "plt.hist(x_train[0].reshape(784))\r\n",
        "plt.title(\"Pixel value distrubution \")"
      ],
      "execution_count": 4,
      "outputs": [
        {
          "output_type": "execute_result",
          "data": {
            "text/plain": [
              "Text(0.5, 1.0, 'Pixel value distrubution ')"
            ]
          },
          "metadata": {
            "tags": []
          },
          "execution_count": 4
        },
        {
          "output_type": "display_data",
          "data": {
            "image/png": "[encoded data removed]",
            "text/plain": [
              "<Figure size 432x288 with 2 Axes>"
            ]
          },
          "metadata": {
            "tags": [],
            "needs_background": "light"
          }
        }
      ]
    },
    {
      "cell_type": "code",
      "metadata": {
        "colab": {
          "base_uri": "https://localhost:8080/"
        },
        "id": "2WWPLbwi5J82",
        "outputId": "f723b28f-f09d-4af7-eae6-a7db7185406b"
      },
      "source": [
        "x_train = x_train.reshape(60000,784)#osu forme d'un vecteur\r\n",
        "x_test = x_test.reshape(10000,784)\r\n",
        "x_train = x_train.astype('float32')\r\n",
        "x_test = x_test.astype('float32')\r\n",
        "x_train /=255 #normalisisation (/255-0) des variables pour accelerer l'entrainement\r\n",
        "x_test /=255\r\n",
        "print(x_train.shape)\r\n",
        "print(x_test.shape)"
      ],
      "execution_count": 5,
      "outputs": [
        {
          "output_type": "stream",
          "text": [
            "(60000, 784)\n",
            "(10000, 784)\n"
          ],
          "name": "stdout"
        }
      ]
    },
    {
      "cell_type": "code",
      "metadata": {
        "colab": {
          "base_uri": "https://localhost:8080/"
        },
        "id": "m6g_4Db5_Gfn",
        "outputId": "9fec5af9-19d6-4d47-b653-26ac9ffb8d9b"
      },
      "source": [
        "#le codage \"one_hot encoding\" est la representation de variables catégorielles sous la forme de vecteurs binaire\r\n",
        "print(\"shape before one hot encoding : \",y_train.shape)\r\n",
        "y_train = keras.utils.to_categorical (y_train,10)\r\n",
        "y_test = keras.utils.to_categorical (y_test,10)\r\n",
        "print(\"shape after one hot encoding : \",y_train.shape)"
      ],
      "execution_count": 6,
      "outputs": [
        {
          "output_type": "stream",
          "text": [
            "shape before one hot encoding :  (60000,)\n",
            "shape after one hot encoding :  (60000, 10)\n"
          ],
          "name": "stdout"
        }
      ]
    },
    {
      "cell_type": "code",
      "metadata": {
        "colab": {
          "base_uri": "https://localhost:8080/"
        },
        "id": "G4F5OnSH_Gst",
        "outputId": "afebf125-2db4-4b67-d41c-9b1ddb92c949"
      },
      "source": [
        "print(y_train[0])"
      ],
      "execution_count": 7,
      "outputs": [
        {
          "output_type": "stream",
          "text": [
            "[0. 0. 0. 0. 0. 1. 0. 0. 0. 0.]\n"
          ],
          "name": "stdout"
        }
      ]
    },
    {
      "cell_type": "code",
      "metadata": {
        "colab": {
          "base_uri": "https://localhost:8080/"
        },
        "id": "FgXnef14_G5t",
        "outputId": "a2e6fc70-bddc-4faf-e56c-cb6d2aed8b69"
      },
      "source": [
        "model = Sequential()\r\n",
        "model.add(Dense(512,activation='relu', input_shape =(784,))) #couche caché de 512 neuronnes ,entierement connecté,'relu'=max(0,Z),les valeurs negatives vont prendre 0\r\n",
        "model.add(Dense(10,activation='softmax'))#softmax=multiclasse()\r\n",
        "model.summary()"
      ],
      "execution_count": 8,
      "outputs": [
        {
          "output_type": "stream",
          "text": [
            "Model: \"sequential\"\n",
            "_________________________________________________________________\n",
            "Layer (type)                 Output Shape              Param #   \n",
            "=================================================================\n",
            "dense (Dense)                (None, 512)               401920    \n",
            "_________________________________________________________________\n",
            "dense_1 (Dense)              (None, 10)                5130      \n",
            "=================================================================\n",
            "Total params: 407,050\n",
            "Trainable params: 407,050\n",
            "Non-trainable params: 0\n",
            "_________________________________________________________________\n"
          ],
          "name": "stdout"
        }
      ]
    },
    {
      "cell_type": "code",
      "metadata": {
        "id": "CRZZ15kd4Xxw",
        "colab": {
          "base_uri": "https://localhost:8080/"
        },
        "outputId": "9172ae96-fce3-4465-d7cd-8709a9d4eb09"
      },
      "source": [
        "sgd = optimizers.SGD(lr=0.01)\r\n",
        "model.compile(loss= 'categorical_crossentropy',\r\n",
        "              optimizer = sgd,\r\n",
        "              metrics=['accuracy'])\r\n",
        "history = model.fit(x_train, y_train, batch_size= 128,epochs = 20,verbose=1,validation_data=(x_test, y_test))\r\n",
        "\r\n",
        "#optimisation des poids pour chaque mini batch de 128 image,\r\n",
        "#epochs le nombre d'itérartios\r\n",
        "# verbose=1 affichage de processus  pour chaque mini batch"
      ],
      "execution_count": 9,
      "outputs": [
        {
          "output_type": "stream",
          "text": [
            "Epoch 1/20\n",
            "469/469 [==============================] - 4s 8ms/step - loss: 1.5438 - accuracy: 0.6098 - val_loss: 0.5952 - val_accuracy: 0.8664\n",
            "Epoch 2/20\n",
            "469/469 [==============================] - 3s 7ms/step - loss: 0.5626 - accuracy: 0.8653 - val_loss: 0.4321 - val_accuracy: 0.8924\n",
            "Epoch 3/20\n",
            "469/469 [==============================] - 4s 8ms/step - loss: 0.4296 - accuracy: 0.8898 - val_loss: 0.3719 - val_accuracy: 0.9044\n",
            "Epoch 4/20\n",
            "469/469 [==============================] - 4s 8ms/step - loss: 0.3809 - accuracy: 0.8975 - val_loss: 0.3394 - val_accuracy: 0.9084\n",
            "Epoch 5/20\n",
            "469/469 [==============================] - 3s 7ms/step - loss: 0.3523 - accuracy: 0.9035 - val_loss: 0.3173 - val_accuracy: 0.9131\n",
            "Epoch 6/20\n",
            "469/469 [==============================] - 3s 7ms/step - loss: 0.3304 - accuracy: 0.9089 - val_loss: 0.3005 - val_accuracy: 0.9166\n",
            "Epoch 7/20\n",
            "469/469 [==============================] - 3s 7ms/step - loss: 0.3121 - accuracy: 0.9137 - val_loss: 0.2894 - val_accuracy: 0.9207\n",
            "Epoch 8/20\n",
            "469/469 [==============================] - 3s 7ms/step - loss: 0.2998 - accuracy: 0.9173 - val_loss: 0.2781 - val_accuracy: 0.9229\n",
            "Epoch 9/20\n",
            "469/469 [==============================] - 3s 7ms/step - loss: 0.2873 - accuracy: 0.9214 - val_loss: 0.2682 - val_accuracy: 0.9265\n",
            "Epoch 10/20\n",
            "469/469 [==============================] - 3s 7ms/step - loss: 0.2711 - accuracy: 0.9260 - val_loss: 0.2595 - val_accuracy: 0.9288\n",
            "Epoch 11/20\n",
            "469/469 [==============================] - 3s 7ms/step - loss: 0.2677 - accuracy: 0.9264 - val_loss: 0.2516 - val_accuracy: 0.9310\n",
            "Epoch 12/20\n",
            "469/469 [==============================] - 3s 7ms/step - loss: 0.2586 - accuracy: 0.9291 - val_loss: 0.2450 - val_accuracy: 0.9325\n",
            "Epoch 13/20\n",
            "469/469 [==============================] - 3s 7ms/step - loss: 0.2532 - accuracy: 0.9299 - val_loss: 0.2385 - val_accuracy: 0.9347\n",
            "Epoch 14/20\n",
            "469/469 [==============================] - 3s 7ms/step - loss: 0.2407 - accuracy: 0.9340 - val_loss: 0.2328 - val_accuracy: 0.9366\n",
            "Epoch 15/20\n",
            "469/469 [==============================] - 3s 7ms/step - loss: 0.2383 - accuracy: 0.9349 - val_loss: 0.2274 - val_accuracy: 0.9370\n",
            "Epoch 16/20\n",
            "469/469 [==============================] - 3s 7ms/step - loss: 0.2334 - accuracy: 0.9357 - val_loss: 0.2218 - val_accuracy: 0.9391\n",
            "Epoch 17/20\n",
            "469/469 [==============================] - 3s 7ms/step - loss: 0.2231 - accuracy: 0.9392 - val_loss: 0.2169 - val_accuracy: 0.9403\n",
            "Epoch 18/20\n",
            "469/469 [==============================] - 3s 7ms/step - loss: 0.2217 - accuracy: 0.9396 - val_loss: 0.2123 - val_accuracy: 0.9406\n",
            "Epoch 19/20\n",
            "469/469 [==============================] - 3s 7ms/step - loss: 0.2177 - accuracy: 0.9405 - val_loss: 0.2078 - val_accuracy: 0.9420\n",
            "Epoch 20/20\n",
            "469/469 [==============================] - 3s 7ms/step - loss: 0.2112 - accuracy: 0.9415 - val_loss: 0.2033 - val_accuracy: 0.9434\n"
          ],
          "name": "stdout"
        }
      ]
    },
    {
      "cell_type": "code",
      "metadata": {
        "id": "GOtIKd6Dfr9d",
        "colab": {
          "base_uri": "https://localhost:8080/"
        },
        "outputId": "c7fbaeb0-fe4b-4c7a-f5d4-dfc1f23ac526"
      },
      "source": [
        "score = model.evaluate(x_test, y_test, verbose=0)\r\n",
        "print(\"test loss : \",score[0])\r\n",
        "print(\"test accuracy : \",score[1])"
      ],
      "execution_count": 10,
      "outputs": [
        {
          "output_type": "stream",
          "text": [
            "test loss :  0.20330572128295898\n",
            "test accuracy :  0.9434000253677368\n"
          ],
          "name": "stdout"
        }
      ]
    },
    {
      "cell_type": "code",
      "metadata": {
        "id": "0Qm-kUGKfsIK",
        "colab": {
          "base_uri": "https://localhost:8080/"
        },
        "outputId": "8a4227f8-5f56-429f-dae0-1459ecb89825"
      },
      "source": [
        "from google.colab import drive\r\n",
        "drive.mount(\"/content/drive\")"
      ],
      "execution_count": 11,
      "outputs": [
        {
          "output_type": "stream",
          "text": [
            "Mounted at /content/drive\n"
          ],
          "name": "stdout"
        }
      ]
    },
    {
      "cell_type": "code",
      "metadata": {
        "id": "NTcNyssufsVU",
        "colab": {
          "base_uri": "https://localhost:8080/"
        },
        "outputId": "8548c793-f7ad-4d82-c0f3-988229af266d"
      },
      "source": [
        "#saving the model\r\n",
        "save_dir = \"/folders/1vNHuqhsK_SW0soeUMgdbrOoXet1qug9k\"\r\n",
        "model_name =\"model_mlp_digits.h5\"\r\n",
        "model_path = os.path.join(save_dir,model_name)\r\n",
        "print(\"model saving at : \",model_path)"
      ],
      "execution_count": 14,
      "outputs": [
        {
          "output_type": "stream",
          "text": [
            "model saving at :  /folders/1vNHuqhsK_SW0soeUMgdbrOoXet1qug9k/model_mlp_digits.h5\n"
          ],
          "name": "stdout"
        }
      ]
    }
  ]
}