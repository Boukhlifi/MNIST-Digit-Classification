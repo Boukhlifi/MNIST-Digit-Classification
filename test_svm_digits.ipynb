{
 "cells": [
  {
   "cell_type": "code",
   "execution_count": 1,
   "metadata": {},
   "outputs": [],
   "source": [
    "#le but de cette partie est de predire les chiffres sur une nouvelle image \n",
    "#qui contient une suite de degits manuscrits à partir du modéle SVM sauvegardé\n",
    "#predire la classe de chaque digits"
   ]
  },
  {
   "cell_type": "code",
   "execution_count": 2,
   "metadata": {},
   "outputs": [
    {
     "name": "stdout",
     "output_type": "stream",
     "text": [
      "Requirement already satisfied: opencv-python in c:\\users\\boukh\\anaconda3\\lib\\site-packages (4.4.0.46)\n",
      "Requirement already satisfied: numpy>=1.17.3 in c:\\users\\boukh\\anaconda3\\lib\\site-packages (from opencv-python) (1.18.5)\n",
      "Note: you may need to restart the kernel to use updated packages.\n"
     ]
    }
   ],
   "source": [
    "pip install opencv-python"
   ]
  },
  {
   "cell_type": "code",
   "execution_count": 3,
   "metadata": {},
   "outputs": [],
   "source": [
    "import cv2\n",
    "import joblib\n",
    "from skimage.feature import hog \n",
    "import numpy as np"
   ]
  },
  {
   "cell_type": "code",
   "execution_count": 20,
   "metadata": {},
   "outputs": [],
   "source": [
    "#chargement de modéle\n",
    "model = joblib.load(\"svm_gigits.pkl\")"
   ]
  },
  {
   "cell_type": "code",
   "execution_count": 25,
   "metadata": {},
   "outputs": [
    {
     "data": {
      "text/plain": [
       "-1"
      ]
     },
     "execution_count": 25,
     "metadata": {},
     "output_type": "execute_result"
    }
   ],
   "source": [
    "image = cv2.imread('test.jpg')\n",
    "cv2.imshow('original image',image)\n",
    "cv2.waitKey(0)\n",
    "#cv2.destroyAllwindows()"
   ]
  },
  {
   "cell_type": "code",
   "execution_count": 6,
   "metadata": {},
   "outputs": [],
   "source": [
    "#pour faire la prediction ,on dois separer et decouper chaque degit et predire chaque degits aparts"
   ]
  },
  {
   "cell_type": "code",
   "execution_count": 7,
   "metadata": {},
   "outputs": [
    {
     "data": {
      "text/plain": [
       "-1"
      ]
     },
     "execution_count": 7,
     "metadata": {},
     "output_type": "execute_result"
    }
   ],
   "source": [
    "#convertir l'image en niveau de gris\n",
    "im_gray = cv2.cvtColor(image, cv2.COLOR_BGR2GRAY)\n",
    "cv2.imshow(\"image en niveaux de gris\",im_gray)\n",
    "cv2.waitKey(0)"
   ]
  },
  {
   "cell_type": "code",
   "execution_count": 8,
   "metadata": {},
   "outputs": [
    {
     "name": "stdout",
     "output_type": "stream",
     "text": [
      "Collecting opencv-contrib-python\n",
      "  Using cached opencv_contrib_python-4.4.0.46-cp38-cp38-win_amd64.whl (40.2 MB)\n",
      "Requirement already satisfied: numpy>=1.17.3 in c:\\users\\boukh\\anaconda3\\lib\\site-packages (from opencv-contrib-python) (1.18.5)\n",
      "Installing collected packages: opencv-contrib-python\n",
      "Note: you may need to restart the kernel to use updated packages.\n"
     ]
    },
    {
     "name": "stderr",
     "output_type": "stream",
     "text": [
      "ERROR: Could not install packages due to an EnvironmentError: [WinError 5] Accès refusé: 'C:\\\\Users\\\\boukh\\\\anaconda3\\\\Lib\\\\site-packages\\\\cv2\\\\cv2.cp38-win_amd64.pyd'\n",
      "Consider using the `--user` option or check the permissions.\n",
      "\n"
     ]
    }
   ],
   "source": [
    "pip install opencv-contrib-python\n"
   ]
  },
  {
   "cell_type": "code",
   "execution_count": 9,
   "metadata": {},
   "outputs": [
    {
     "data": {
      "text/plain": [
       "-1"
      ]
     },
     "execution_count": 9,
     "metadata": {},
     "output_type": "execute_result"
    }
   ],
   "source": [
    "#application de filtre gaussian pour eliminer le bruit \n",
    "im_gaussian = cv2.GaussianBlur(im_gray,(5,5), 0)\n",
    "cv2.imshow(\"image filtrée \",im_gray)\n",
    "cv2.waitKey(0)"
   ]
  },
  {
   "cell_type": "code",
   "execution_count": 10,
   "metadata": {},
   "outputs": [
    {
     "data": {
      "text/plain": [
       "-1"
      ]
     },
     "execution_count": 10,
     "metadata": {},
     "output_type": "execute_result"
    }
   ],
   "source": [
    "#binariser l'mage pour trouver les contours\n",
    "ret, im_th = cv2.threshold(im_gaussian,90,255,cv2.THRESH_BINARY_INV)#si >90 O sinon 1\n",
    "cv2.imshow('Image Binaire',im_th)\n",
    "cv2.imshow(\"image binaire\",im_th)\n",
    "cv2.waitKey(0)\n",
    "#cv2.destroyALLwindows()"
   ]
  },
  {
   "cell_type": "code",
   "execution_count": 11,
   "metadata": {},
   "outputs": [],
   "source": [
    "#trouver les contours dans une image\n",
    "ctrs, hier =cv2.findContours(im_th.copy(),cv2.RETR_EXTERNAL, cv2.CHAIN_APPROX_SIMPLE)#au lieu d'avoir tous le spoints de contour,on vas avoir que \n",
    "#les points interessants qui vont me delimiter le contour, dans le cas d'un rectangle, il faut que 2 points pour dessiner le rectangle\n",
    "#dont l ebut de ne pas aborder le memoire\n"
   ]
  },
  {
   "cell_type": "code",
   "execution_count": 12,
   "metadata": {},
   "outputs": [
    {
     "name": "stdout",
     "output_type": "stream",
     "text": [
      "[(248, 268, 41, 52), (148, 266, 50, 57), (63, 262, 58, 57), (425, 261, 6, 53), (324, 260, 42, 63), (559, 257, 48, 64), (645, 256, 31, 58), (474, 256, 37, 68)]\n"
     ]
    }
   ],
   "source": [
    "#dessiner un rectangle pour chaque contour\n",
    "rects=[cv2.boundingRect(ctr) for ctr in ctrs]#boundingRect il nous genere x,y,w(la largeur),h(la hauteur) pour dessiner le 2eme point \n",
    "print(rects)"
   ]
  },
  {
   "cell_type": "code",
   "execution_count": 31,
   "metadata": {},
   "outputs": [],
   "source": [
    "for rect in rects:\n",
    "    #dessiner les rectangles\n",
    "    cv2.rectangle(image,(rect[0],rect[1]), (rect[0] + rect[2],rect[1]+rect[3]),(0,255,0),3)#point depart,point d'arrive,pallete de couleur,la largeur de contour\n",
    "    #mettre les contour en dehors de la degit\n",
    "    leng = int(rect[3]*1.6)\n",
    "    pt1 = int(rect[1] + rect[3] //2 - leng // 2)\n",
    "    pt2 = int(rect[0] + rect[2] //2 - leng // 2)\n",
    "    roi = im_th[pt1:pt1+leng, pt2:pt2+leng ]\n",
    "    #resize the image\n",
    "    roi = cv2.resize(roi, (28,28), interpolation=cv2.INTER_AREA)#on doit faire resize pour la nouvelle region,cette technique de l'interpolation,il fait un resize mais en se basant sur la surface\n",
    "    roi = cv2.dilate(roi,(3, 3))\n",
    "    #calculate the hog features\n",
    "    roi_hog_fd = hog(roi, orientations=9 , pixels_per_cell=(14,14), cells_per_block =(1,1))\n",
    "    nbr = model.predict(np.array([roi_hog_fd], 'float64'))\n",
    "    cv2.putText(image,str(int(nbr)), (rect[0],rect[1]), cv2.FONT_HERSHEY_DUPLEX, 2, (0,255,255), 3)\n",
    "    "
   ]
  },
  {
   "cell_type": "code",
   "execution_count": 32,
   "metadata": {},
   "outputs": [],
   "source": [
    "cv2.imshow(\"le resultat de SVM, image)\n",
    "cv2.waitKey(0)\n",
    "cv2.destroyAllWindows()"
   ]
  }
 ],
 "metadata": {
  "kernelspec": {
   "display_name": "Python 3",
   "language": "python",
   "name": "python3"
  },
  "language_info": {
   "codemirror_mode": {
    "name": "ipython",
    "version": 3
   },
   "file_extension": ".py",
   "mimetype": "text/x-python",
   "name": "python",
   "nbconvert_exporter": "python",
   "pygments_lexer": "ipython3",
   "version": "3.8.3"
  }
 },
 "nbformat": 4,
 "nbformat_minor": 4
}
